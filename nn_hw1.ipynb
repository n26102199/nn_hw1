{
 "cells": [
  {
   "cell_type": "markdown",
   "metadata": {},
   "source": [
    "## 引用函式庫 ##"
   ]
  },
  {
   "cell_type": "code",
   "execution_count": 1,
   "metadata": {},
   "outputs": [],
   "source": [
    "import numpy as np"
   ]
  },
  {
   "cell_type": "code",
   "execution_count": 23,
   "metadata": {},
   "outputs": [],
   "source": [
    "class dense_layer:\n",
    "    \n",
    "    def __init__(self, units=40, input_shape=20, activation=\"relu\"):\n",
    "        super(dense_layer, self).__init__()\n",
    "        self.units = units\n",
    "        self.weight = np.reshape(np.random.uniform(0, 1, units*input_shape), (units, input_shape))\n",
    "        self.activation = activation"
   ]
  },
  {
   "cell_type": "code",
   "execution_count": 39,
   "metadata": {},
   "outputs": [],
   "source": [
    "class my_model:\n",
    "    \n",
    "    def __init__(self, input_units=20, units_of_hidden_layer=[40], activation_of_hidden_layer=[\"relu\"], output_units=10):\n",
    "        # 檢查隱藏層的參數數量有沒有一致\n",
    "        if len(units_of_hidden_layer) != len(activation_of_hidden_layer):\n",
    "            raise BaseException(\"Hidden Layer Parameter not match!\")\n",
    "            \n",
    "        super(my_model, self).__init__()\n",
    "        self.length_of_model = len(units_of_hidden_layer)\n",
    "        self.layer_list = list()\n",
    "        \n",
    "        # create first hidden layer\n",
    "        self.layer_list.append(dense_layer(units_of_hidden_layer[0], input_units, activation_of_hidden_layer[0]))\n",
    "        \n",
    "        # create the rest hidden layer\n",
    "        for i in range(1, self.length_of_model):\n",
    "            self.layer_list.append(dense_layer(units_of_hidden_layer[i], units_of_hidden_layer[i-1], activation_of_hidden_layer[i]))\n",
    "            \n",
    "        # create output layer\n",
    "        self.layer_list.append(dense_layer(output_units, units_of_hidden_layer[-1], activation=\"softmax\"))\n",
    "        \n",
    "        "
   ]
  },
  {
   "cell_type": "code",
   "execution_count": 45,
   "metadata": {},
   "outputs": [
    {
     "name": "stdout",
     "output_type": "stream",
     "text": [
      "1\n",
      "(40, 20)\n"
     ]
    }
   ],
   "source": [
    "test = my_model(input_units=20, units_of_hidden_layer=[40, 30, 50], activation_of_hidden_layer=[\"relu\", \"relu\", \"relu\"], output_units=10)\n",
    "print(test.length_of_model)\n",
    "print(test.layer_list[0].weight.shape)\n",
    "for i in range(test.layer_list):\n",
    "    print(test.layer_list[i].weight.shape)"
   ]
  },
  {
   "cell_type": "code",
   "execution_count": null,
   "metadata": {},
   "outputs": [],
   "source": []
  }
 ],
 "metadata": {
  "kernelspec": {
   "display_name": "Python 3 (ipykernel)",
   "language": "python",
   "name": "python3"
  },
  "language_info": {
   "codemirror_mode": {
    "name": "ipython",
    "version": 3
   },
   "file_extension": ".py",
   "mimetype": "text/x-python",
   "name": "python",
   "nbconvert_exporter": "python",
   "pygments_lexer": "ipython3",
   "version": "3.8.8"
  }
 },
 "nbformat": 4,
 "nbformat_minor": 4
}
